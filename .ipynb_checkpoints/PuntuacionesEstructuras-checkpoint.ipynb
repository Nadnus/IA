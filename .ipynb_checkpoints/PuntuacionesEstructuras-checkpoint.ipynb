{
 "cells": [
  {
   "cell_type": "code",
   "execution_count": 1,
   "metadata": {},
   "outputs": [
    {
     "data": {
      "text/html": [
       "<div>\n",
       "<style scoped>\n",
       "    .dataframe tbody tr th:only-of-type {\n",
       "        vertical-align: middle;\n",
       "    }\n",
       "\n",
       "    .dataframe tbody tr th {\n",
       "        vertical-align: top;\n",
       "    }\n",
       "\n",
       "    .dataframe thead th {\n",
       "        text-align: right;\n",
       "    }\n",
       "</style>\n",
       "<table border=\"1\" class=\"dataframe\">\n",
       "  <thead>\n",
       "    <tr style=\"text-align: right;\">\n",
       "      <th></th>\n",
       "      <th>A</th>\n",
       "      <th>B</th>\n",
       "    </tr>\n",
       "  </thead>\n",
       "  <tbody>\n",
       "    <tr>\n",
       "      <th>0</th>\n",
       "      <td>0</td>\n",
       "      <td>0</td>\n",
       "    </tr>\n",
       "    <tr>\n",
       "      <th>1</th>\n",
       "      <td>0</td>\n",
       "      <td>1</td>\n",
       "    </tr>\n",
       "    <tr>\n",
       "      <th>2</th>\n",
       "      <td>0</td>\n",
       "      <td>0</td>\n",
       "    </tr>\n",
       "    <tr>\n",
       "      <th>3</th>\n",
       "      <td>0</td>\n",
       "      <td>0</td>\n",
       "    </tr>\n",
       "    <tr>\n",
       "      <th>4</th>\n",
       "      <td>1</td>\n",
       "      <td>0</td>\n",
       "    </tr>\n",
       "    <tr>\n",
       "      <th>5</th>\n",
       "      <td>2</td>\n",
       "      <td>0</td>\n",
       "    </tr>\n",
       "    <tr>\n",
       "      <th>6</th>\n",
       "      <td>2</td>\n",
       "      <td>1</td>\n",
       "    </tr>\n",
       "    <tr>\n",
       "      <th>7</th>\n",
       "      <td>2</td>\n",
       "      <td>1</td>\n",
       "    </tr>\n",
       "    <tr>\n",
       "      <th>8</th>\n",
       "      <td>2</td>\n",
       "      <td>1</td>\n",
       "    </tr>\n",
       "    <tr>\n",
       "      <th>9</th>\n",
       "      <td>0</td>\n",
       "      <td>0</td>\n",
       "    </tr>\n",
       "  </tbody>\n",
       "</table>\n",
       "</div>"
      ],
      "text/plain": [
       "   A  B\n",
       "0  0  0\n",
       "1  0  1\n",
       "2  0  0\n",
       "3  0  0\n",
       "4  1  0\n",
       "5  2  0\n",
       "6  2  1\n",
       "7  2  1\n",
       "8  2  1\n",
       "9  0  0"
      ]
     },
     "execution_count": 1,
     "metadata": {},
     "output_type": "execute_result"
    }
   ],
   "source": [
    "import pandas as pd\n",
    "import math\n",
    "\n",
    "alpha = 1\n",
    "\n",
    "df = pd.read_csv(\"datasets/ejemplo.csv\")\n",
    "df"
   ]
  },
  {
   "cell_type": "code",
   "execution_count": 2,
   "metadata": {},
   "outputs": [],
   "source": [
    "def findVariables(df, col):\n",
    "    l = []\n",
    "    for elem in df[col]:\n",
    "    \tif elem not in l:\n",
    "    \t\tl.append(elem)\n",
    "    return l"
   ]
  },
  {
   "cell_type": "code",
   "execution_count": 3,
   "metadata": {},
   "outputs": [],
   "source": [
    "def getCardinality(df, col):\n",
    "    return len(findVariables(df,col))"
   ]
  },
  {
   "cell_type": "code",
   "execution_count": 4,
   "metadata": {},
   "outputs": [
    {
     "name": "stdout",
     "output_type": "stream",
     "text": [
      "['A', []]\n",
      "['B', ['A']]\n"
     ]
    }
   ],
   "source": [
    "# m = [\n",
    "#     [0,0,0],\n",
    "#     [0,0,1],\n",
    "#     [1,0,0]\n",
    "#     ] este es para otro dataset\n",
    "\n",
    "\n",
    "m = [\n",
    "    [0,0],\n",
    "    [1,0]\n",
    "]\n",
    "\n",
    "def getAllParents(g,df):\n",
    "    fathers = []\n",
    "    res = []\n",
    "    colNames = list(df.columns)\n",
    "    \n",
    "    for col in range(len(g)):\n",
    "        aux = []\n",
    "        for row in range(len(g)):\n",
    "            if(g[col][row] == 1):\n",
    "                aux.append(colNames[row])\n",
    "        fathers.append(aux)\n",
    "\n",
    "    for i in range(len(g)):\n",
    "        yield [colNames[i],fathers[i]]\n",
    "    \n",
    "    #return res\n",
    "\n",
    "for i in getAllParents(m,df):\n",
    "    print(i)"
   ]
  },
  {
   "cell_type": "code",
   "execution_count": 5,
   "metadata": {},
   "outputs": [
    {
     "data": {
      "text/plain": [
       "['B', ['A']]"
      ]
     },
     "execution_count": 5,
     "metadata": {},
     "output_type": "execute_result"
    }
   ],
   "source": [
    "def getParents(varName, df, g):\n",
    "    colNames = list(df.columns)\n",
    "    idx = colNames.index(varName)\n",
    "    result = [varName]\n",
    "    aux = []\n",
    "    for i in range(len(g)):\n",
    "        if(g[idx][i] == 1):\n",
    "            aux.append(colNames[i])\n",
    "    result.append(aux)\n",
    "    return result\n",
    "\n",
    "getParents('B',df,m)"
   ]
  },
  {
   "cell_type": "code",
   "execution_count": 6,
   "metadata": {},
   "outputs": [
    {
     "data": {
      "text/plain": [
       "1"
      ]
     },
     "execution_count": 6,
     "metadata": {},
     "output_type": "execute_result"
    }
   ],
   "source": [
    "def calcQ(varName,df,g):\n",
    "    prod = 1\n",
    "    if len(getParents(varName,df,g)[1]) > 0:\n",
    "        for p in getParents(varName,df,g)[1]:\n",
    "            prod*=getCardinality(df,p)\n",
    "    return prod\n",
    "\n",
    "calcQ('A',df,m)"
   ]
  },
  {
   "cell_type": "code",
   "execution_count": 7,
   "metadata": {},
   "outputs": [
    {
     "data": {
      "text/plain": [
       "5"
      ]
     },
     "execution_count": 7,
     "metadata": {},
     "output_type": "execute_result"
    }
   ],
   "source": [
    "def AIC_k(df,g):\n",
    "    size = len(g)\n",
    "    colNames = list(df.columns)\n",
    "    accum = 0\n",
    "    for i in range(size):\n",
    "        Q = calcQ(colNames[i],df,g)\n",
    "#         print(\"parents\",getParents(colNames[i],df,g)[1])\n",
    "#         print(\"r\",  getCardinality(df,colNames[i]))\n",
    "#         print(\"q\",Q)\n",
    "        accum+= (( getCardinality(df,colNames[i]) - 1) * Q)\n",
    "    return accum\n",
    "\n",
    "AIC_k(df,m)"
   ]
  },
  {
   "cell_type": "code",
   "execution_count": 8,
   "metadata": {},
   "outputs": [],
   "source": [
    "def AIC():\n",
    "    return H(B,D)+AIC_k()"
   ]
  },
  {
   "cell_type": "code",
   "execution_count": 9,
   "metadata": {},
   "outputs": [],
   "source": [
    "def MDL(df,g):\n",
    "    N = len(df.index)\n",
    "    return H(B,D) + (AIC_k())/2*math.log(N,10)"
   ]
  },
  {
   "cell_type": "code",
   "execution_count": 10,
   "metadata": {},
   "outputs": [
    {
     "data": {
      "text/plain": [
       "6"
      ]
     },
     "execution_count": 10,
     "metadata": {},
     "output_type": "execute_result"
    }
   ],
   "source": [
    "def Nij(df,i,j,g):\n",
    "    colNames = list(df.columns)\n",
    "    parent = getParents(colNames[i],df,g)\n",
    "    result = 0\n",
    "    \n",
    "    for p in parent[1]:\n",
    "        possibilities = findVariables(df, p)\n",
    "\n",
    "        for index,row in df.iterrows():\n",
    "            if(row[p] == possibilities[j]):\n",
    "                result+=1\n",
    "    return result+1\n",
    "\n",
    "Nij(df,1,0,m)"
   ]
  },
  {
   "cell_type": "code",
   "execution_count": 11,
   "metadata": {},
   "outputs": [
    {
     "data": {
      "text/plain": [
       "1"
      ]
     },
     "execution_count": 11,
     "metadata": {},
     "output_type": "execute_result"
    }
   ],
   "source": [
    "def Nijk(df,i,j,k,g):\n",
    "    colNames = list(df.columns)\n",
    "    parent = getParents(colNames[i],df,g)\n",
    "    result = 0\n",
    "    iPossibilities = findVariables(df,colNames[i])\n",
    "    \n",
    "    for p in parent[1]:\n",
    "        Pi_possibilities = findVariables(df,p)\n",
    "        \n",
    "        for index, row in df.iterrows():\n",
    "            if(row[p] == Pi_possibilities[j] and row[colNames[i]] == iPossibilities[k]):\n",
    "                result+=1\n",
    "    return result+1\n",
    "\n",
    "Nijk(df,0,1,1,m)"
   ]
  },
  {
   "cell_type": "code",
   "execution_count": null,
   "metadata": {},
   "outputs": [],
   "source": []
  },
  {
   "cell_type": "code",
   "execution_count": 12,
   "metadata": {},
   "outputs": [
    {
     "name": "stdout",
     "output_type": "stream",
     "text": [
      "num 2\n",
      "A\n",
      "denom 6\n",
      "aux 0.3333333333333333\n",
      "accum3 1\n",
      "accum3 1\n",
      "accum3 1\n",
      "accum2 0.3333333333333333\n",
      "num 1\n",
      "B\n",
      "denom 5040\n",
      "aux 0.0001984126984126984\n",
      "accum3 5\n",
      "accum3 10\n",
      "accum2 0.001984126984126984\n",
      "num 1\n",
      "B\n",
      "denom 6\n",
      "aux 0.16666666666666666\n",
      "accum3 2\n",
      "accum3 2\n",
      "accum2 0.0006613756613756613\n",
      "num 1\n",
      "B\n",
      "denom 720\n",
      "aux 0.001388888888888889\n",
      "accum3 2\n",
      "accum3 8\n",
      "accum2 7.348618459729571e-06\n"
     ]
    },
    {
     "data": {
      "text/plain": [
       "2.4495394865765235e-06"
      ]
     },
     "execution_count": 12,
     "metadata": {},
     "output_type": "execute_result"
    }
   ],
   "source": [
    "def k2(df,g):\n",
    "    colNames = list(df.columns)\n",
    "    accum_1 = 1\n",
    "    for i in range(len(colNames)):\n",
    "        accum_2 = 1\n",
    "        for j in range(calcQ(colNames[i],df,g)):\n",
    "            num = math.factorial(getCardinality(df,colNames[i])-1)\n",
    "            print(\"num\",num)\n",
    "            print(colNames[i])\n",
    "            denom = math.factorial(getCardinality(df,colNames[i])-1 + Nij(df,i,j,g))\n",
    "            print(\"denom\",denom)\n",
    "            aux = num/denom\n",
    "            print(\"aux\",aux)\n",
    "            accum_3 = 1\n",
    "            for k in range(getCardinality(df,colNames[i])):\n",
    "                accum_3*=Nijk(df,i,j,k,m)\n",
    "                print(\"accum3\",accum_3)\n",
    "            \n",
    "            accum_2*= accum_3 * aux\n",
    "            print(\"accum2\",accum_2)\n",
    "        accum_1 *= accum_2\n",
    "    return accum_1\n",
    "        \n",
    "        \n",
    "k2(df,m)"
   ]
  },
  {
   "cell_type": "code",
   "execution_count": null,
   "metadata": {},
   "outputs": [],
   "source": []
  }
 ],
 "metadata": {
  "kernelspec": {
   "display_name": "Python 3",
   "language": "python",
   "name": "python3"
  },
  "language_info": {
   "codemirror_mode": {
    "name": "ipython",
    "version": 3
   },
   "file_extension": ".py",
   "mimetype": "text/x-python",
   "name": "python",
   "nbconvert_exporter": "python",
   "pygments_lexer": "ipython3",
   "version": "3.8.5"
  }
 },
 "nbformat": 4,
 "nbformat_minor": 4
}
