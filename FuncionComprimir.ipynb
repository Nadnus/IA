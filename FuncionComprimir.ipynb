{
 "cells": [
  {
   "cell_type": "code",
   "execution_count": 64,
   "metadata": {},
   "outputs": [
    {
     "ename": "SyntaxError",
     "evalue": "invalid syntax (<ipython-input-64-aa35712576ac>, line 4)",
     "output_type": "error",
     "traceback": [
      "\u001b[0;36m  File \u001b[0;32m\"<ipython-input-64-aa35712576ac>\"\u001b[0;36m, line \u001b[0;32m4\u001b[0m\n\u001b[0;31m    (0,1,0):0.6\u001b[0m\n\u001b[0m           ^\u001b[0m\n\u001b[0;31mSyntaxError\u001b[0m\u001b[0;31m:\u001b[0m invalid syntax\n"
     ]
    }
   ],
   "source": [
    "c1 = [['D',[]],{0:0.4,1:0.6}]\n",
    "c2 = [['C',['B','D']],{(0,0,0):0.2,\n",
    "                      (1,0,0):0.8\n",
    "                      (0,1,0):0.6\n",
    "                      (1,1,0):0.4\n",
    "                      (0,0,1):0.7\n",
    "                      (1,0,1):0.3\n",
    "                      (0,1,1):0.1\n",
    "                      (1,1,1):0.9}]"
   ]
  },
  {
   "cell_type": "code",
   "execution_count": 105,
   "metadata": {},
   "outputs": [],
   "source": [
    "L = [['C',['B','D']],{(0,0,0): 0.2*0.4,\n",
    "                 (1,0,0): 0.8*0.4,\n",
    "                 (0,1,0): 0.6*0.4,\n",
    "                 (1,1,0): 0.4*0.4,\n",
    "                 (0,0,1): 0.7*0.6,\n",
    "                 (1,0,1): 0.3*0.6,\n",
    "                 (0,1,1): 0.1*0.6,\n",
    "                 (1,1,1): 0.9*0.6,}]"
   ]
  },
  {
   "cell_type": "code",
   "execution_count": 106,
   "metadata": {},
   "outputs": [
    {
     "data": {
      "text/plain": [
       "[['C', ['D']],\n",
       " {(0, 0): 0.32, (1, 0): 0.4800000000000001, (0, 1): 0.48, (1, 1): 0.72}]"
      ]
     },
     "execution_count": 106,
     "metadata": {},
     "output_type": "execute_result"
    }
   ],
   "source": [
    "def compression(var,L): #var es el nombre de la variable que queremos desaparecer\n",
    "# lista resultante de la multiplicacion\n",
    "    res = {}\n",
    "    varNames = [L[0][0]]+L[0][1]\n",
    "\n",
    "    varIdx = varNames.index(var)\n",
    "\n",
    "    newNames = L[0].copy()\n",
    "    \n",
    "    newNames[1].remove(var)\n",
    "    \n",
    "    varPossibleVals = []\n",
    "    \n",
    "    for i in L[1]:\n",
    "\n",
    "        varPossibleVals.append(i[varIdx])\n",
    "    varPossibleVals = set(varPossibleVals)\n",
    "    varPossibleVals = list(varPossibleVals)\n",
    "    \n",
    "    dictIdxs = []\n",
    "    for idx in L[1]:\n",
    "        dictIdxs.append(idx)\n",
    "\n",
    "    \n",
    "    newIdxs = []\n",
    "    for i in dictIdxs:\n",
    "        i2 = list(i)\n",
    "        del i2[varIdx]\n",
    "        \n",
    "        if tuple(i2) not in res:\n",
    "\n",
    "            res[tuple(i2)] = L[1][tuple(i)]\n",
    "        else:\n",
    "\n",
    "            res[tuple(i2)] += L[1][tuple(i)]\n",
    "    \n",
    "    return [newNames,res]\n",
    "    \n",
    "    \n",
    "compression('B',L)"
   ]
  },
  {
   "cell_type": "code",
   "execution_count": null,
   "metadata": {},
   "outputs": [],
   "source": []
  }
 ],
 "metadata": {
  "kernelspec": {
   "display_name": "Python 3",
   "language": "python",
   "name": "python3"
  },
  "language_info": {
   "codemirror_mode": {
    "name": "ipython",
    "version": 3
   },
   "file_extension": ".py",
   "mimetype": "text/x-python",
   "name": "python",
   "nbconvert_exporter": "python",
   "pygments_lexer": "ipython3",
   "version": "3.8.5"
  }
 },
 "nbformat": 4,
 "nbformat_minor": 4
}
