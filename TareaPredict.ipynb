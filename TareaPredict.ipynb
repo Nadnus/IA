{
 "cells": [
  {
   "cell_type": "code",
   "execution_count": 20,
   "metadata": {},
   "outputs": [
    {
     "output_type": "execute_result",
     "data": {
      "text/plain": [
       "   A  B  C\n",
       "0  0  0  0\n",
       "1  2  1  1\n",
       "2  2  1  0\n",
       "3  0  1  0\n",
       "4  0  0  1\n",
       "5  1  1  1\n",
       "6  1  1  1\n",
       "7  2  0  0\n",
       "8  0  1  0\n",
       "9  1  1  1"
      ],
      "text/html": "<div>\n<style scoped>\n    .dataframe tbody tr th:only-of-type {\n        vertical-align: middle;\n    }\n\n    .dataframe tbody tr th {\n        vertical-align: top;\n    }\n\n    .dataframe thead th {\n        text-align: right;\n    }\n</style>\n<table border=\"1\" class=\"dataframe\">\n  <thead>\n    <tr style=\"text-align: right;\">\n      <th></th>\n      <th>A</th>\n      <th>B</th>\n      <th>C</th>\n    </tr>\n  </thead>\n  <tbody>\n    <tr>\n      <th>0</th>\n      <td>0</td>\n      <td>0</td>\n      <td>0</td>\n    </tr>\n    <tr>\n      <th>1</th>\n      <td>2</td>\n      <td>1</td>\n      <td>1</td>\n    </tr>\n    <tr>\n      <th>2</th>\n      <td>2</td>\n      <td>1</td>\n      <td>0</td>\n    </tr>\n    <tr>\n      <th>3</th>\n      <td>0</td>\n      <td>1</td>\n      <td>0</td>\n    </tr>\n    <tr>\n      <th>4</th>\n      <td>0</td>\n      <td>0</td>\n      <td>1</td>\n    </tr>\n    <tr>\n      <th>5</th>\n      <td>1</td>\n      <td>1</td>\n      <td>1</td>\n    </tr>\n    <tr>\n      <th>6</th>\n      <td>1</td>\n      <td>1</td>\n      <td>1</td>\n    </tr>\n    <tr>\n      <th>7</th>\n      <td>2</td>\n      <td>0</td>\n      <td>0</td>\n    </tr>\n    <tr>\n      <th>8</th>\n      <td>0</td>\n      <td>1</td>\n      <td>0</td>\n    </tr>\n    <tr>\n      <th>9</th>\n      <td>1</td>\n      <td>1</td>\n      <td>1</td>\n    </tr>\n  </tbody>\n</table>\n</div>"
     },
     "metadata": {},
     "execution_count": 20
    }
   ],
   "source": [
    "import pandas as pd\n",
    "from marginal.main import estimar_marginal\n",
    "from thing import condicional\n",
    "\n",
    "\n",
    "df = pd.read_csv(\"datasets/training_dataset1.csv\")\n",
    "df"
   ]
  },
  {
   "cell_type": "code",
   "execution_count": 5,
   "metadata": {},
   "outputs": [
    {
     "output_type": "execute_result",
     "data": {
      "text/plain": [
       "     outlook temperature humidity  windy play\n",
       "0   overcast         hot     high  False  yes\n",
       "3   overcast         hot   normal  False  yes\n",
       "9      sunny         hot     high  False   no\n",
       "10     sunny         hot     high   True   no"
      ],
      "text/html": "<div>\n<style scoped>\n    .dataframe tbody tr th:only-of-type {\n        vertical-align: middle;\n    }\n\n    .dataframe tbody tr th {\n        vertical-align: top;\n    }\n\n    .dataframe thead th {\n        text-align: right;\n    }\n</style>\n<table border=\"1\" class=\"dataframe\">\n  <thead>\n    <tr style=\"text-align: right;\">\n      <th></th>\n      <th>outlook</th>\n      <th>temperature</th>\n      <th>humidity</th>\n      <th>windy</th>\n      <th>play</th>\n    </tr>\n  </thead>\n  <tbody>\n    <tr>\n      <th>0</th>\n      <td>overcast</td>\n      <td>hot</td>\n      <td>high</td>\n      <td>False</td>\n      <td>yes</td>\n    </tr>\n    <tr>\n      <th>3</th>\n      <td>overcast</td>\n      <td>hot</td>\n      <td>normal</td>\n      <td>False</td>\n      <td>yes</td>\n    </tr>\n    <tr>\n      <th>9</th>\n      <td>sunny</td>\n      <td>hot</td>\n      <td>high</td>\n      <td>False</td>\n      <td>no</td>\n    </tr>\n    <tr>\n      <th>10</th>\n      <td>sunny</td>\n      <td>hot</td>\n      <td>high</td>\n      <td>True</td>\n      <td>no</td>\n    </tr>\n  </tbody>\n</table>\n</div>"
     },
     "metadata": {},
     "execution_count": 5
    }
   ],
   "source": [
    "def foo(df,colNames, values):\n",
    "    l = []\n",
    "    for i in range(len(colNames)):\n",
    "        l.append(df[colNames[i]] == values[i])\n",
    "        \n",
    "#     return df.loc()\n",
    "#     print(l)\n",
    "    \n",
    "    x = l[0]\n",
    "    for i in range(1,len(l)):\n",
    "        x = x&l[i]\n",
    "        \n",
    "    return df.loc[x]\n",
    "\n",
    "newDf = foo(df,[\"temperature\"], [\"hot\"])\n",
    "newDf"
   ]
  },
  {
   "cell_type": "code",
   "execution_count": 6,
   "metadata": {},
   "outputs": [
    {
     "output_type": "execute_result",
     "data": {
      "text/plain": [
       "['overcast', 'sunny']"
      ]
     },
     "metadata": {},
     "execution_count": 6
    }
   ],
   "source": [
    "def findVariables(df, col):\n",
    "    l = []\n",
    "    for elem in df[col]:\n",
    "    \tif elem not in l:\n",
    "    \t\tl.append(elem)\n",
    "    return l\n",
    "\n",
    "x = findVariables(newDf, \"outlook\")\n",
    "x"
   ]
  },
  {
   "cell_type": "code",
   "execution_count": 7,
   "metadata": {},
   "outputs": [
    {
     "output_type": "execute_result",
     "data": {
      "text/plain": [
       "2"
      ]
     },
     "metadata": {},
     "execution_count": 7
    }
   ],
   "source": [
    "def getCardinality(df, col):\n",
    "    return len(findVariables(df,col))\n",
    "\n",
    "y = getCardinality(newDf, \"outlook\")\n",
    "y"
   ]
  },
  {
   "cell_type": "code",
   "execution_count": 23,
   "metadata": {},
   "outputs": [
    {
     "output_type": "stream",
     "name": "stdout",
     "text": [
      "['A', ['B']]\n['B', ['C']]\n['C', []]\n"
     ]
    }
   ],
   "source": [
    "# Desde aqui importa <<<<<<<<<<<<<<<<<<<<<<<<<<<<<<<<<<<<<\n",
    "\n",
    "m = [[0,1,0],\n",
    "     [0,0,1],\n",
    "     [0,0,0]]\n",
    "\n",
    "def getParents(g,df):\n",
    "    fathers = []\n",
    "    res = []\n",
    "    colNames = list(df.columns)\n",
    "    \n",
    "    for col in range(len(g)):\n",
    "        aux = []\n",
    "        for row in range(len(g)):\n",
    "            if(m[col][row] == 1):\n",
    "                aux.append(colNames[row])\n",
    "        fathers.append(aux)\n",
    "\n",
    "    for i in range(len(g)):\n",
    "        yield [colNames[i],fathers[i]]\n",
    "    \n",
    "    #return res\n",
    "\n",
    "for i in getParents(m,df):\n",
    "    print(i)"
   ]
  },
  {
   "cell_type": "code",
   "execution_count": 24,
   "metadata": {},
   "outputs": [],
   "source": [
    "class rb:\n",
    "    def __init__(self,g, df,a):\n",
    "        self.dag = g\n",
    "        self.margs = [] # => tienes que correr calc() para llenarlo\n",
    "        self.conds = []\n",
    "        self.alpha = a\n",
    "        self.df = df\n",
    "    \n",
    "    def calc(self):\n",
    "        for elem in getParents(self.dag,self.df):\n",
    "            if(len(elem[1])== 0):\n",
    "                self.margs.append([elem,estimar_marginal(df,elem[0],self.alpha)])\n",
    "            else:\n",
    "                self.conds.append([elem,condicional(df,elem[0],elem[1],self.alpha)])"
   ]
  },
  {
   "cell_type": "code",
   "execution_count": 49,
   "metadata": {},
   "outputs": [],
   "source": [
    "def inferencia(df,query,colNames, values, rb):\n",
    "    mgs = []\n",
    "    cds = []\n",
    "    accum = 1\n",
    "    colNames = list(df.columns)\n",
    "    \n",
    "    \n",
    "    for i in rb.conds:\n",
    "        idxs = []\n",
    "        for e in i[0]:\n",
    "            if e in colNames:\n",
    "                idxs.append(colNames.index(e))\n",
    "            else:\n",
    "                dictValues = i[1].values\n",
    "                \n",
    "                cds.append(max(dictValues))\n",
    "        vals = []\n",
    "        for idx in idxs:\n",
    "            vals.append(values[idx])\n",
    "        \n",
    "        cds.append(i[1][vals])\n",
    "    x\n",
    "        \n",
    "    for i in rb.margs: \n",
    "        idxs = []\n",
    "        for e in i[0]:\n",
    "            if e in colNames:\n",
    "                idxs.append(colNames.index(e))\n",
    "            else:\n",
    "                dictValues = i.values\n",
    "                mgs.append(max(dictValues))\n",
    "        vals = []\n",
    "        for idx in idxs:\n",
    "            vals.append(values[idx])\n",
    "            \n",
    "            mgs.append(i[1][vals])\n",
    "    \n",
    "    for i in range(len(mgs)):\n",
    "        accum *= mgs[i]\n",
    "        \n",
    "    for i in range(len(cds)):\n",
    "        accum *= cds[i]\n",
    "    return accum\n",
    "\n"
   ]
  },
  {
   "cell_type": "code",
   "execution_count": 33,
   "metadata": {},
   "outputs": [
    {
     "output_type": "stream",
     "name": "stdout",
     "text": [
      "10\n6\n10\n4\n"
     ]
    }
   ],
   "source": [
    "x = rb(m,df,1)\n",
    "x.calc()"
   ]
  },
  {
   "cell_type": "code",
   "execution_count": 50,
   "metadata": {},
   "outputs": [
    {
     "output_type": "error",
     "ename": "TypeError",
     "evalue": "'builtin_function_or_method' object is not iterable",
     "traceback": [
      "\u001b[0;31m---------------------------------------------------------------------------\u001b[0m",
      "\u001b[0;31mTypeError\u001b[0m                                 Traceback (most recent call last)",
      "\u001b[0;32m<ipython-input-50-bb843b1de500>\u001b[0m in \u001b[0;36m<module>\u001b[0;34m\u001b[0m\n\u001b[0;32m----> 1\u001b[0;31m \u001b[0mprint\u001b[0m\u001b[0;34m(\u001b[0m\u001b[0minferencia\u001b[0m\u001b[0;34m(\u001b[0m\u001b[0mdf\u001b[0m\u001b[0;34m,\u001b[0m\u001b[0;34m\"A\"\u001b[0m\u001b[0;34m,\u001b[0m\u001b[0;34m[\u001b[0m\u001b[0;34m\"B\"\u001b[0m\u001b[0;34m]\u001b[0m\u001b[0;34m,\u001b[0m\u001b[0;34m[\u001b[0m\u001b[0;34m\"1\"\u001b[0m\u001b[0;34m]\u001b[0m\u001b[0;34m,\u001b[0m\u001b[0mx\u001b[0m\u001b[0;34m)\u001b[0m\u001b[0;34m)\u001b[0m\u001b[0;34m\u001b[0m\u001b[0;34m\u001b[0m\u001b[0m\n\u001b[0m",
      "\u001b[0;32m<ipython-input-49-cb119eab00ba>\u001b[0m in \u001b[0;36minferencia\u001b[0;34m(df, query, colNames, values, rb)\u001b[0m\n\u001b[1;32m     14\u001b[0m                 \u001b[0mdictValues\u001b[0m \u001b[0;34m=\u001b[0m \u001b[0mi\u001b[0m\u001b[0;34m[\u001b[0m\u001b[0;36m1\u001b[0m\u001b[0;34m]\u001b[0m\u001b[0;34m.\u001b[0m\u001b[0mvalues\u001b[0m\u001b[0;34m\u001b[0m\u001b[0;34m\u001b[0m\u001b[0m\n\u001b[1;32m     15\u001b[0m \u001b[0;34m\u001b[0m\u001b[0m\n\u001b[0;32m---> 16\u001b[0;31m                 \u001b[0mcds\u001b[0m\u001b[0;34m.\u001b[0m\u001b[0mappend\u001b[0m\u001b[0;34m(\u001b[0m\u001b[0mmax\u001b[0m\u001b[0;34m(\u001b[0m\u001b[0mdictValues\u001b[0m\u001b[0;34m)\u001b[0m\u001b[0;34m)\u001b[0m\u001b[0;34m\u001b[0m\u001b[0;34m\u001b[0m\u001b[0m\n\u001b[0m\u001b[1;32m     17\u001b[0m         \u001b[0mvals\u001b[0m \u001b[0;34m=\u001b[0m \u001b[0;34m[\u001b[0m\u001b[0;34m]\u001b[0m\u001b[0;34m\u001b[0m\u001b[0;34m\u001b[0m\u001b[0m\n\u001b[1;32m     18\u001b[0m         \u001b[0;32mfor\u001b[0m \u001b[0midx\u001b[0m \u001b[0;32min\u001b[0m \u001b[0midxs\u001b[0m\u001b[0;34m:\u001b[0m\u001b[0;34m\u001b[0m\u001b[0;34m\u001b[0m\u001b[0m\n",
      "\u001b[0;31mTypeError\u001b[0m: 'builtin_function_or_method' object is not iterable"
     ]
    }
   ],
   "source": [
    "print(inferencia(df,\"A\",[\"B\"],[\"1\"],x))"
   ]
  },
  {
   "cell_type": "code",
   "execution_count": 46,
   "metadata": {},
   "outputs": [
    {
     "output_type": "execute_result",
     "data": {
      "text/plain": [
       "[[['A', ['B']],\n",
       "  {(0, 0): 0.5625,\n",
       "   (0, 1): 0.28125,\n",
       "   (2, 0): 0.375,\n",
       "   (2, 1): 0.28125,\n",
       "   (1, 0): 0.1875,\n",
       "   (1, 1): 0.375}],\n",
       " [['B', ['C']],\n",
       "  {(0, 0): 0.42857142857142855,\n",
       "   (0, 1): 0.2857142857142857,\n",
       "   (1, 0): 0.5714285714285714,\n",
       "   (1, 1): 0.7142857142857143}]]"
      ]
     },
     "metadata": {},
     "execution_count": 46
    }
   ],
   "source": [
    "x.conds"
   ]
  },
  {
   "cell_type": "code",
   "execution_count": null,
   "metadata": {},
   "outputs": [],
   "source": []
  }
 ],
 "metadata": {
  "kernelspec": {
   "display_name": "Python 3",
   "language": "python",
   "name": "python3"
  },
  "language_info": {
   "codemirror_mode": {
    "name": "ipython",
    "version": 3
   },
   "file_extension": ".py",
   "mimetype": "text/x-python",
   "name": "python",
   "nbconvert_exporter": "python",
   "pygments_lexer": "ipython3",
   "version": "3.8.5-final"
  }
 },
 "nbformat": 4,
 "nbformat_minor": 4
}